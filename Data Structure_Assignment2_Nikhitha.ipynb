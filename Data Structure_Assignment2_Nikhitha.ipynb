{
  "nbformat": 4,
  "nbformat_minor": 0,
  "metadata": {
    "colab": {
      "provenance": [],
      "authorship_tag": "ABX9TyMIgKFt6jOMUvAfn+G8OUBi"
    },
    "kernelspec": {
      "name": "python3",
      "display_name": "Python 3"
    },
    "language_info": {
      "name": "python"
    }
  },
  "cells": [
    {
      "cell_type": "markdown",
      "source": [
        "## **DATA STRUCTURE_ASSIGNMENT2**\n",
        "\n",
        "---\n",
        "\n",
        "\n"
      ],
      "metadata": {
        "id": "UBZm0It1rEcE"
      }
    },
    {
      "cell_type": "markdown",
      "source": [
        "# **1. DISCUSS STRING SLICING AND PROVIDE EXAMPLES?**\n",
        "\n",
        "String slice: Part of String\n",
        "\n",
        "String slicing: the process of grabbing a part of the string is known as string slicing\n",
        "\n",
        "In the real life,slicing is done using a knife or sharp material while slcing in python is done by using the slicing operator which is the colon[:]\n",
        "\n",
        "The slicing syntax as three numeric values in it each sepearted by colons and surrounded by square brackets\n",
        "\n",
        "[ start : stop : step]\n",
        "\n",
        "**start**: first index of the substring you want to grab\n",
        "\n",
        "**stop:** last index of the substring upto which you want to grab\n",
        "\n",
        "**step:** The size of the jump you want to take while grabbing the subsection"
      ],
      "metadata": {
        "id": "W1I1aNTOpAZI"
      }
    },
    {
      "cell_type": "markdown",
      "source": [
        "# **String Slicing**"
      ],
      "metadata": {
        "id": "w_m5com8wpFn"
      }
    },
    {
      "cell_type": "code",
      "source": [
        "#Example\n",
        "# we have a string \"mechanicalengineering\"\n",
        "\n",
        "mystring = \"mechanicalengineering\""
      ],
      "metadata": {
        "id": "QDvWT0UQpVBU"
      },
      "execution_count": 39,
      "outputs": []
    },
    {
      "cell_type": "markdown",
      "source": [
        "# **Example - Grab a Substring**"
      ],
      "metadata": {
        "id": "mdAgK3ixw5If"
      }
    },
    {
      "cell_type": "code",
      "source": [
        "mystring[5:12:1]"
      ],
      "metadata": {
        "colab": {
          "base_uri": "https://localhost:8080/",
          "height": 36
        },
        "id": "igYN-Ahfw_GE",
        "outputId": "868af223-afe1-462d-9d2c-712997d50804"
      },
      "execution_count": 40,
      "outputs": [
        {
          "output_type": "execute_result",
          "data": {
            "text/plain": [
              "'nicalen'"
            ],
            "application/vnd.google.colaboratory.intrinsic+json": {
              "type": "string"
            }
          },
          "metadata": {},
          "execution_count": 40
        }
      ]
    },
    {
      "cell_type": "markdown",
      "source": [
        "# ***Scenario 1: No step size ***\n",
        "\n",
        "here is the note that in the python default step size is 1. if we dont even mention anything in the step size, the python will assume that our step size is 1."
      ],
      "metadata": {
        "id": "oUkNP8JWw49B"
      }
    },
    {
      "cell_type": "code",
      "source": [
        "mystring[3:10]"
      ],
      "metadata": {
        "colab": {
          "base_uri": "https://localhost:8080/",
          "height": 36
        },
        "id": "pd1U1Sm9yAkS",
        "outputId": "4c5edb09-264f-4878-c6f0-9b7d1df004d6"
      },
      "execution_count": 41,
      "outputs": [
        {
          "output_type": "execute_result",
          "data": {
            "text/plain": [
              "'hanical'"
            ],
            "application/vnd.google.colaboratory.intrinsic+json": {
              "type": "string"
            }
          },
          "metadata": {},
          "execution_count": 41
        }
      ]
    },
    {
      "cell_type": "markdown",
      "source": [
        "# **Scenario 2: No stop index**\n",
        "\n",
        "python will assume the very last index of the string as stop index in case it is not mentioned"
      ],
      "metadata": {
        "id": "oJPDbrufyn9k"
      }
    },
    {
      "cell_type": "code",
      "source": [
        "mystring[7:]"
      ],
      "metadata": {
        "colab": {
          "base_uri": "https://localhost:8080/",
          "height": 36
        },
        "id": "7_AgxzhEy0am",
        "outputId": "e3744fb9-a35f-4812-a6b9-11290979c29a"
      },
      "execution_count": 42,
      "outputs": [
        {
          "output_type": "execute_result",
          "data": {
            "text/plain": [
              "'calengineering'"
            ],
            "application/vnd.google.colaboratory.intrinsic+json": {
              "type": "string"
            }
          },
          "metadata": {},
          "execution_count": 42
        }
      ]
    },
    {
      "cell_type": "markdown",
      "source": [
        "# **Scenario 3: No start index**\n",
        "No Start:\n",
        "python will assume it as 0 in case it is not mentioned\n"
      ],
      "metadata": {
        "id": "_uKRDtFQzN9n"
      }
    },
    {
      "cell_type": "code",
      "source": [
        "mystring[:10]"
      ],
      "metadata": {
        "colab": {
          "base_uri": "https://localhost:8080/",
          "height": 36
        },
        "id": "vBFYlSrR0OZk",
        "outputId": "ef8764c5-c997-4982-825b-f4c63a99059c"
      },
      "execution_count": 43,
      "outputs": [
        {
          "output_type": "execute_result",
          "data": {
            "text/plain": [
              "'mechanical'"
            ],
            "application/vnd.google.colaboratory.intrinsic+json": {
              "type": "string"
            }
          },
          "metadata": {},
          "execution_count": 43
        }
      ]
    },
    {
      "cell_type": "markdown",
      "source": [
        "# **Scenario 4: No start or stop index**"
      ],
      "metadata": {
        "id": "9pSiGDfY0A8_"
      }
    },
    {
      "cell_type": "code",
      "source": [
        "mystring[::2] #it will give every alternative character"
      ],
      "metadata": {
        "colab": {
          "base_uri": "https://localhost:8080/",
          "height": 36
        },
        "id": "6tj0ED9G0JLk",
        "outputId": "c1d9e768-dda9-48bf-c512-02129b9500c5"
      },
      "execution_count": 44,
      "outputs": [
        {
          "output_type": "execute_result",
          "data": {
            "text/plain": [
              "'mcaiaegneig'"
            ],
            "application/vnd.google.colaboratory.intrinsic+json": {
              "type": "string"
            }
          },
          "metadata": {},
          "execution_count": 44
        }
      ]
    },
    {
      "cell_type": "markdown",
      "source": [
        "# **Scenario 5: No start, stop or step index**\n",
        "\n",
        "python assume start will be at 0. stop is at end of the string and step will assume by default 1"
      ],
      "metadata": {
        "id": "6BIMJuM0z7U3"
      }
    },
    {
      "cell_type": "code",
      "source": [
        "mystring[::]"
      ],
      "metadata": {
        "colab": {
          "base_uri": "https://localhost:8080/",
          "height": 36
        },
        "id": "mtkKUfWk05jT",
        "outputId": "e5e0bd03-b419-433b-dbc7-06f747d7c049"
      },
      "execution_count": 45,
      "outputs": [
        {
          "output_type": "execute_result",
          "data": {
            "text/plain": [
              "'mechanicalengineering'"
            ],
            "application/vnd.google.colaboratory.intrinsic+json": {
              "type": "string"
            }
          },
          "metadata": {},
          "execution_count": 45
        }
      ]
    },
    {
      "cell_type": "markdown",
      "source": [
        "# **Scenario 6: single character as a substring**\n",
        "\n",
        "the difference between the start and stop index should be 1 and the start index should be equal to the poistion in the orginal string"
      ],
      "metadata": {
        "id": "gRtBwhbw1c6-"
      }
    },
    {
      "cell_type": "code",
      "source": [
        "mystring=\"mechanicalengineering\"\n",
        "mystring[7:8]"
      ],
      "metadata": {
        "colab": {
          "base_uri": "https://localhost:8080/",
          "height": 36
        },
        "id": "32mud9lb04_E",
        "outputId": "3a884468-e3f5-45c3-9f41-f42d92cfcbd3"
      },
      "execution_count": 46,
      "outputs": [
        {
          "output_type": "execute_result",
          "data": {
            "text/plain": [
              "'c'"
            ],
            "application/vnd.google.colaboratory.intrinsic+json": {
              "type": "string"
            }
          },
          "metadata": {},
          "execution_count": 46
        }
      ]
    },
    {
      "cell_type": "markdown",
      "source": [
        "# **2. EXPLAIN THE KEY FEATURES OF LISTS IN PYTHON.**\n",
        "\n",
        "the data type list is an ordered\n",
        "sequence that is mutable and made up of one or more elements.\n",
        "\n",
        "a list can have elements of different data types, such as integer,float,string,tuple or even another list.\n",
        "\n",
        "a list is very useful to group together elements off mixed data types.\n",
        "\n",
        "list indices also start from 0.\n",
        "\n",
        "elements of a list are enclosed in square brackets and are separated by a comma.\n",
        "\n",
        "\n",
        "\n",
        "\n",
        "\n",
        "\n",
        "\n"
      ],
      "metadata": {
        "id": "QKQVcE64pcn8"
      }
    },
    {
      "cell_type": "markdown",
      "source": [
        "# **List is an example of mixed data types**\n"
      ],
      "metadata": {
        "id": "bpJ7rhIW44Lc"
      }
    },
    {
      "cell_type": "code",
      "source": [
        "list = [20,2.5,'Nikki']\n",
        "print(list)"
      ],
      "metadata": {
        "colab": {
          "base_uri": "https://localhost:8080/"
        },
        "id": "Uc710x6I49zD",
        "outputId": "24e90f50-a75e-4ce9-9e4e-6d5c0ecf8aff"
      },
      "execution_count": 47,
      "outputs": [
        {
          "output_type": "stream",
          "name": "stdout",
          "text": [
            "[20, 2.5, 'Nikki']\n"
          ]
        }
      ]
    },
    {
      "cell_type": "markdown",
      "source": [
        "# **Example of Nested List**"
      ],
      "metadata": {
        "id": "nVx7jcnL5YjR"
      }
    },
    {
      "cell_type": "code",
      "source": [
        "list=[['nikki',2020],['pinky',2030],['dolly',2035]]\n",
        "list"
      ],
      "metadata": {
        "colab": {
          "base_uri": "https://localhost:8080/"
        },
        "id": "9zCogG2ZpnTl",
        "outputId": "b7d39ba9-1e4e-47b6-c5bc-bc564d4f618d"
      },
      "execution_count": 48,
      "outputs": [
        {
          "output_type": "execute_result",
          "data": {
            "text/plain": [
              "[['nikki', 2020], ['pinky', 2030], ['dolly', 2035]]"
            ]
          },
          "metadata": {},
          "execution_count": 48
        }
      ]
    },
    {
      "cell_type": "markdown",
      "source": [
        "# **Accessing elements from the list**"
      ],
      "metadata": {
        "id": "ssPzYgEJ56N7"
      }
    },
    {
      "cell_type": "code",
      "source": [
        "list=[20,6.5,'nikki']\n",
        "list[-1]"
      ],
      "metadata": {
        "colab": {
          "base_uri": "https://localhost:8080/",
          "height": 36
        },
        "id": "piI04B8z55bp",
        "outputId": "84f71f19-8849-4a51-d904-8e4dc6ba92e6"
      },
      "execution_count": 49,
      "outputs": [
        {
          "output_type": "execute_result",
          "data": {
            "text/plain": [
              "'nikki'"
            ],
            "application/vnd.google.colaboratory.intrinsic+json": {
              "type": "string"
            }
          },
          "metadata": {},
          "execution_count": 49
        }
      ]
    },
    {
      "cell_type": "markdown",
      "source": [
        "list[5] #error\n",
        "\n",
        "list[-1] nikki\n",
        "\n",
        "list[n-1] nikki\n",
        "\n",
        "list[-n] 20\n",
        "\n",
        "list[2] = 'nice' # it will replace it"
      ],
      "metadata": {
        "id": "12IZNOMp675P"
      }
    },
    {
      "cell_type": "markdown",
      "source": [
        "# **3. DESCRIBE HOW TO ACCESS,MODIFY AND DELETE ELEMENTS IN A LIST WITH EXAMPLES**\n",
        "\n"
      ],
      "metadata": {
        "id": "0bnxQqHPpnwF"
      }
    },
    {
      "cell_type": "code",
      "source": [
        "#1.Accessing Elements in a List\n",
        "#You can access elements in a list using indexing (starting from 0), or through slicing for multiple elements.\n",
        "\n",
        "my_list = [10, 20, 30, 40, 50]\n",
        "print(my_list[0])  # Output: 10 (first element)\n",
        "print(my_list[3])  # Output: 40 (fourth element)\n",
        "print(my_list[-1]) # Output: 50 (last element using negative indexing)\n"
      ],
      "metadata": {
        "colab": {
          "base_uri": "https://localhost:8080/"
        },
        "id": "d92W8atIp22l",
        "outputId": "8c12632e-29bd-46c3-ecf2-8368720b743c"
      },
      "execution_count": 50,
      "outputs": [
        {
          "output_type": "stream",
          "name": "stdout",
          "text": [
            "10\n",
            "40\n",
            "50\n"
          ]
        }
      ]
    },
    {
      "cell_type": "code",
      "source": [
        "#2. Modifying Elements in a List\n",
        "#You can change the value of an element by assigning a new value to the desired index.\n",
        "\n",
        "my_list = [10, 20, 30, 40, 50]\n",
        "my_list[2] = 35  # Changing the element at index 2\n",
        "print(my_list)  # Output: [10, 20, 35, 40, 50]\n"
      ],
      "metadata": {
        "colab": {
          "base_uri": "https://localhost:8080/"
        },
        "id": "gkmMY3LD8hT2",
        "outputId": "fbdd8a00-191c-41d9-cf1c-143d91931b3d"
      },
      "execution_count": 51,
      "outputs": [
        {
          "output_type": "stream",
          "name": "stdout",
          "text": [
            "[10, 20, 35, 40, 50]\n"
          ]
        }
      ]
    },
    {
      "cell_type": "code",
      "source": [
        "#3. Deleting Elements from a List\n",
        "#There are several ways to delete elements from a list: using del, remove(), pop(), or clear().\n",
        "my_list = [10, 20, 30, 40, 50]\n",
        "del my_list[1]  # Deletes the element at index 1\n",
        "print(my_list)  # Output: [10, 30, 40, 50]\n",
        "\n",
        "# Deleting multiple elements using slicing\n",
        "del my_list[1:3]\n",
        "print(my_list)  # Output: [10, 50]\n",
        "\n"
      ],
      "metadata": {
        "colab": {
          "base_uri": "https://localhost:8080/"
        },
        "id": "fO6qC-Yd8tcL",
        "outputId": "3d127dfb-e7a0-4a5e-bb3d-daa5908775ef"
      },
      "execution_count": 52,
      "outputs": [
        {
          "output_type": "stream",
          "name": "stdout",
          "text": [
            "[10, 30, 40, 50]\n",
            "[10, 50]\n"
          ]
        }
      ]
    },
    {
      "cell_type": "code",
      "source": [
        "#remove() (removes the first occurrence of a specified value):\n",
        "my_list = [10, 20, 30, 20, 50]\n",
        "my_list.remove(20)  # Removes the first occurrence of 20\n",
        "print(my_list)  # Output: [10, 30, 20, 50]\n"
      ],
      "metadata": {
        "colab": {
          "base_uri": "https://localhost:8080/"
        },
        "id": "Hrf2BMTK88xg",
        "outputId": "88723cdd-70df-4e92-cb73-c971128ce6ab"
      },
      "execution_count": 53,
      "outputs": [
        {
          "output_type": "stream",
          "name": "stdout",
          "text": [
            "[10, 30, 20, 50]\n"
          ]
        }
      ]
    },
    {
      "cell_type": "markdown",
      "source": [
        "# **4. COMPARE AND CONTRAST TUPLES AND LISTS WITH EXAMPLES**\n",
        "\n",
        "Tuples and Lists are both sequence data types in Python, but they differ in several key ways. Here’s a comparison of tuples and lists with examples:"
      ],
      "metadata": {
        "id": "dqsuakNIp3Zm"
      }
    },
    {
      "cell_type": "code",
      "source": [
        "#Tuples and Lists are both sequence data types in Python, but they differ in several key ways. Here’s a comparison of tuples and lists with examples:\n",
        "\n",
        "# List (mutable)\n",
        "my_list = [10, 20, 30]\n",
        "my_list[1] = 25   # Modifying element at index 1\n",
        "print(my_list)    # Output: [10, 25, 30]\n",
        "\n",
        "# Tuple (immutable)\n",
        "my_tuple = (10, 20, 30)\n",
        "# my_tuple[1] = 25  # This would raise an error since tuples are immutable\n"
      ],
      "metadata": {
        "colab": {
          "base_uri": "https://localhost:8080/"
        },
        "id": "tRFt1m7l9VPc",
        "outputId": "2a94ec52-cc05-4933-ad09-3477fb6fd85c"
      },
      "execution_count": 54,
      "outputs": [
        {
          "output_type": "stream",
          "name": "stdout",
          "text": [
            "[10, 25, 30]\n"
          ]
        }
      ]
    },
    {
      "cell_type": "code",
      "source": [
        "#2. Syntax\n",
        "#Lists: Defined using square brackets [ ].\n",
        "#Tuples: Defined using parentheses ( ).\n",
        "\n",
        "# List\n",
        "my_list = [1, 2, 3]\n",
        "\n",
        "# Tuple\n",
        "my_tuple = (1, 2, 3)\n"
      ],
      "metadata": {
        "id": "cmI-RdLwp_fb"
      },
      "execution_count": 55,
      "outputs": []
    },
    {
      "cell_type": "markdown",
      "source": [
        "# **5. DESCRIBE THE KEY FEATURES OF SETS AND PROVIDE EXAMPLES OF THEIR USE.**\n",
        "\n",
        "\n",
        "In Python, a set is an unordered collection of unique elements. Sets are highly useful when you need to store non-duplicate data and perform operations like union, intersection, and difference. Here are the key features of sets, along with examples to illustrate their use:\n",
        "\n",
        "Key Features of Sets\n"
      ],
      "metadata": {
        "id": "pyI39LgDp-pi"
      }
    },
    {
      "cell_type": "code",
      "source": [
        "#Unordered Collection:\n",
        "\n",
        "#Sets do not maintain any specific order of elements, unlike lists and tuples.\n",
        "#Since sets are unordered, they do not support indexing or slicing.\n",
        "\n",
        "my_set = {3, 1, 2, 4}\n",
        "print(my_set)  # Output: {1, 2, 3, 4} (the order may vary)\n"
      ],
      "metadata": {
        "colab": {
          "base_uri": "https://localhost:8080/"
        },
        "id": "WnPVuZpUqQy-",
        "outputId": "50d3a016-762c-4198-9dd8-dde45ffd8f3a"
      },
      "execution_count": 56,
      "outputs": [
        {
          "output_type": "stream",
          "name": "stdout",
          "text": [
            "{1, 2, 3, 4}\n"
          ]
        }
      ]
    },
    {
      "cell_type": "code",
      "source": [
        "#Unique Elements:\n",
        "\n",
        "#Sets automatically discard duplicate values. This is useful when you need to ensure that only unique elements are stored.\n",
        "\n",
        "my_set = {1, 2, 2, 3, 4, 4}\n",
        "print(my_set)  # Output: {1, 2, 3, 4}\n"
      ],
      "metadata": {
        "colab": {
          "base_uri": "https://localhost:8080/"
        },
        "id": "2txtGuqt-zoT",
        "outputId": "5f64c5eb-8bc9-46ec-c06e-9e6959849c58"
      },
      "execution_count": 57,
      "outputs": [
        {
          "output_type": "stream",
          "name": "stdout",
          "text": [
            "{1, 2, 3, 4}\n"
          ]
        }
      ]
    },
    {
      "cell_type": "code",
      "source": [
        "#No Duplicates:\n",
        "\n",
        "#Since sets discard duplicates, they are useful when you want to eliminate duplicates from a collection of items.\n",
        "\n",
        "my_list = [1, 2, 2, 3, 4, 4]\n",
        "my_set = set(my_list)  # Converts list to set, removing duplicates\n",
        "print(my_set)  # Output: {1, 2, 3, 4}\n"
      ],
      "metadata": {
        "colab": {
          "base_uri": "https://localhost:8080/"
        },
        "id": "bvEGjWdS_ET6",
        "outputId": "dbaa18e7-2172-4b89-a5a7-2d1adbdd994d"
      },
      "execution_count": 58,
      "outputs": [
        {
          "output_type": "stream",
          "name": "stdout",
          "text": [
            "{1, 2, 3, 4}\n"
          ]
        }
      ]
    },
    {
      "cell_type": "markdown",
      "source": [
        "# **6.DISCUSS THE USE CASES OF TUPLES AND SETS IN PYTHON PROGRAMMING.**\n",
        "\n",
        "Tuples and sets in Python have distinct use cases, stemming from their unique characteristics. Let's explore the use cases of both data structures in detail:\n",
        "\n",
        "Use Cases of Tuples\n",
        "Fixed Collections of Data:\n",
        "\n",
        "Since tuples are immutable, they are ideal for representing data that should not change throughout the program.\n",
        "Example: Representing coordinates, configuration settings, or fixed sequences."
      ],
      "metadata": {
        "id": "xri9KNXtqRfo"
      }
    },
    {
      "cell_type": "code",
      "source": [
        "# Representing geographic coordinates (latitude, longitude)\n",
        "location = (52.51, 13.39)  # Coordinates of Berlin, Germany\n"
      ],
      "metadata": {
        "id": "eGweuz2mqeI3"
      },
      "execution_count": 59,
      "outputs": []
    },
    {
      "cell_type": "code",
      "source": [
        "# 2.Removing Unwanted Items from Collections:\n",
        "\n",
        "#Sets allow you to easily subtract one set of items from another, making them useful for filtering and removing unwanted elements from collections.\n",
        "\n",
        "# Removing vowels from a set of characters\n",
        "letters = set(\"abcde\")\n",
        "vowels = set(\"aeiou\")\n",
        "consonants = letters - vowels\n",
        "print(consonants)  # Output: {'b', 'c', 'd'}\n"
      ],
      "metadata": {
        "colab": {
          "base_uri": "https://localhost:8080/"
        },
        "id": "QFWewkXs_ryq",
        "outputId": "a6d41985-d769-462d-a693-e67ba7dfa3cf"
      },
      "execution_count": 60,
      "outputs": [
        {
          "output_type": "stream",
          "name": "stdout",
          "text": [
            "{'d', 'b', 'c'}\n"
          ]
        }
      ]
    },
    {
      "cell_type": "code",
      "source": [
        "# 3. Handling Unordered Data:\n",
        "\n",
        "#Since sets are unordered, they are ideal when the order of data does not matter but uniqueness does, such as handling user IDs, tags, or product SKUs.\n",
        "user_ids = {101, 102, 103, 104}  # No need for a specific order, just uniqueness\n",
        "\n"
      ],
      "metadata": {
        "id": "_Cz3rf30_2e2"
      },
      "execution_count": 61,
      "outputs": []
    },
    {
      "cell_type": "markdown",
      "source": [
        "# **7.DESCRIBE HOW TO ADD,MODIFY,AND DELETE ITEMS IN A DICTIONARY WITH EXAMPLES.**\n",
        "\n",
        "In Python, dictionaries are collections of key-value pairs. You can add, modify, and delete items (key-value pairs) from a dictionary easily. Let's go through these operations with examples."
      ],
      "metadata": {
        "id": "Y8uB2-epqbI5"
      }
    },
    {
      "cell_type": "code",
      "source": [
        "#1. Adding Items to a Dictionary\n",
        "#To add an item (a key-value pair) to a dictionary, you assign a value to a key. If the key already exists, its value will be updated; if the key doesn’t exist, a new key-value pair is added.\n",
        "\n",
        "# Create an empty dictionary\n",
        "my_dict = {}\n",
        "\n",
        "# Adding key-value pairs\n",
        "my_dict[\"name\"] = \"Alice\"\n",
        "my_dict[\"age\"] = 25\n",
        "my_dict[\"city\"] = \"New York\"\n",
        "\n",
        "print(my_dict)  # Output: {'name': 'Alice', 'age': 25, 'city': 'New York'}\n",
        "\n"
      ],
      "metadata": {
        "colab": {
          "base_uri": "https://localhost:8080/"
        },
        "id": "brWNJnPhqqX4",
        "outputId": "8a6b3830-6724-42fd-fd2b-545f9d357d72"
      },
      "execution_count": 62,
      "outputs": [
        {
          "output_type": "stream",
          "name": "stdout",
          "text": [
            "{'name': 'Alice', 'age': 25, 'city': 'New York'}\n"
          ]
        }
      ]
    },
    {
      "cell_type": "code",
      "source": [
        "#2. Modifying Items in a Dictionary\n",
        "#To modify an item in a dictionary, you simply assign a new value to an existing key. If the key already exists, its value will be updated with the new one.\n",
        "# Modifying existing key-value pairs\n",
        "my_dict[\"age\"] = 26\n",
        "my_dict[\"city\"] = \"San Francisco\"\n",
        "\n",
        "print(my_dict)  # Output: {'name': 'Alice', 'age': 26, 'city': 'San Francisco', 'country': 'USA', 'job': 'Engineer'}\n",
        "\n"
      ],
      "metadata": {
        "colab": {
          "base_uri": "https://localhost:8080/"
        },
        "id": "ms5DcnKtASWV",
        "outputId": "169c9a2a-c5c7-42c8-eaf7-9f3685303df0"
      },
      "execution_count": 63,
      "outputs": [
        {
          "output_type": "stream",
          "name": "stdout",
          "text": [
            "{'name': 'Alice', 'age': 26, 'city': 'San Francisco'}\n"
          ]
        }
      ]
    },
    {
      "cell_type": "markdown",
      "source": [
        "3. Deleting Items from a Dictionary\n",
        "There are several ways to remove items from a dictionary:\n",
        "\n",
        "a) pop() method\n",
        "The pop() method removes the item with the specified key and returns its value. If the key does not exist, it raises a KeyError."
      ],
      "metadata": {
        "id": "9BiucnUcAgEg"
      }
    },
    {
      "cell_type": "code",
      "source": [
        "# Removing an item using pop()\n",
        "removed_value = my_dict.pop(\"city\")\n",
        "print(removed_value)  # Output: 'Los Angeles'\n",
        "print(my_dict)  # Output: {'name': 'Alice', 'age': 26, 'country': 'USA', 'job': 'Data Scientist'}\n"
      ],
      "metadata": {
        "colab": {
          "base_uri": "https://localhost:8080/"
        },
        "id": "bvtmBDeVAqln",
        "outputId": "40afd1f5-8c95-49d7-9fe0-4e3ae4d31861"
      },
      "execution_count": 64,
      "outputs": [
        {
          "output_type": "stream",
          "name": "stdout",
          "text": [
            "San Francisco\n",
            "{'name': 'Alice', 'age': 26}\n"
          ]
        }
      ]
    },
    {
      "cell_type": "markdown",
      "source": [
        "b) del statement\n",
        "The del statement removes a key-value pair from the dictionary by specifying the key. If the key does not exist, a KeyError is raised."
      ],
      "metadata": {
        "id": "GkgI3PAYAg91"
      }
    },
    {
      "cell_type": "code",
      "source": [
        "# Removing an item using del\n",
        "del my_dict[\"age\"]\n",
        "print(my_dict)  # Output: {'name': 'Alice', 'country': 'USA', 'job': 'Data Scientist'}\n"
      ],
      "metadata": {
        "colab": {
          "base_uri": "https://localhost:8080/"
        },
        "id": "0tz1bP42AxCX",
        "outputId": "1dbc692d-e67f-40bb-8cdc-d06a9c49c262"
      },
      "execution_count": 65,
      "outputs": [
        {
          "output_type": "stream",
          "name": "stdout",
          "text": [
            "{'name': 'Alice'}\n"
          ]
        }
      ]
    },
    {
      "cell_type": "markdown",
      "source": [
        "c) clear() method\n",
        "The clear() method removes all items from the dictionary, leaving it empty."
      ],
      "metadata": {
        "id": "2ieFGQ0kAksN"
      }
    },
    {
      "cell_type": "code",
      "source": [
        "# Clearing the entire dictionary\n",
        "my_dict.clear()\n",
        "print(my_dict)  # Output: {}\n"
      ],
      "metadata": {
        "colab": {
          "base_uri": "https://localhost:8080/"
        },
        "id": "KUJN_EPsA0VB",
        "outputId": "180ad53f-9423-4c76-a759-d88dfd5249c4"
      },
      "execution_count": 66,
      "outputs": [
        {
          "output_type": "stream",
          "name": "stdout",
          "text": [
            "{}\n"
          ]
        }
      ]
    },
    {
      "cell_type": "markdown",
      "source": [
        "# **8.DISCUSS THE IMPORTANCE OF DICTIONARY KEYS BEING IMMUTABLE AND PROVIDE EXAMPLES.**\n",
        "\n",
        "In Python, dictionary keys must be immutable to ensure they remain hashable and provide consistent behavior. This allows dictionaries to use hash tables for fast lookups, insertions, and deletions.\n",
        "\n",
        "Why Immutable Keys Are Important:\n",
        "Hashability: Keys need to have a fixed hash value. If a key were mutable, its hash value could change, making it impossible to retrieve the associated value.\n",
        "Efficient Lookups: Immutable keys ensure dictionaries maintain constant-time complexity (O(1)) for operations like searching and updating.\n",
        "Data Integrity: Immutable keys prevent accidental changes, ensuring reliable mapping between keys and values."
      ],
      "metadata": {
        "id": "7MmARb6Kqqwj"
      }
    },
    {
      "cell_type": "code",
      "source": [
        "#Examples:\n",
        "#Allowed (Immutable Keys): Strings, integers, and tuples.\n",
        "\n",
        "my_dict = {\"name\": \"Alice\", (1, 2): \"Coordinates\"}\n"
      ],
      "metadata": {
        "id": "lDf6oetFq7vv"
      },
      "execution_count": 67,
      "outputs": []
    },
    {
      "cell_type": "code",
      "source": [
        "#Not Allowed (Mutable Keys): Lists, sets, and dictionaries\n",
        "my_dict = {[1, 2]: \"Value\"}  # Raises TypeError: unhashable type: 'list'\n"
      ],
      "metadata": {
        "colab": {
          "base_uri": "https://localhost:8080/",
          "height": 164
        },
        "id": "H81PLEkPBxNt",
        "outputId": "51ce23e4-c102-4fc9-8c07-0aaed2071144"
      },
      "execution_count": 68,
      "outputs": [
        {
          "output_type": "error",
          "ename": "TypeError",
          "evalue": "unhashable type: 'list'",
          "traceback": [
            "\u001b[0;31m---------------------------------------------------------------------------\u001b[0m",
            "\u001b[0;31mTypeError\u001b[0m                                 Traceback (most recent call last)",
            "\u001b[0;32m<ipython-input-68-16b6d994578c>\u001b[0m in \u001b[0;36m<cell line: 2>\u001b[0;34m()\u001b[0m\n\u001b[1;32m      1\u001b[0m \u001b[0;31m#Not Allowed (Mutable Keys): Lists, sets, and dictionaries\u001b[0m\u001b[0;34m\u001b[0m\u001b[0;34m\u001b[0m\u001b[0m\n\u001b[0;32m----> 2\u001b[0;31m \u001b[0mmy_dict\u001b[0m \u001b[0;34m=\u001b[0m \u001b[0;34m{\u001b[0m\u001b[0;34m[\u001b[0m\u001b[0;36m1\u001b[0m\u001b[0;34m,\u001b[0m \u001b[0;36m2\u001b[0m\u001b[0;34m]\u001b[0m\u001b[0;34m:\u001b[0m \u001b[0;34m\"Value\"\u001b[0m\u001b[0;34m}\u001b[0m  \u001b[0;31m# Raises TypeError: unhashable type: 'list'\u001b[0m\u001b[0;34m\u001b[0m\u001b[0;34m\u001b[0m\u001b[0m\n\u001b[0m",
            "\u001b[0;31mTypeError\u001b[0m: unhashable type: 'list'"
          ]
        }
      ]
    },
    {
      "cell_type": "markdown",
      "source": [
        "immutability ensures consistent dictionary behavior and fast access to elements."
      ],
      "metadata": {
        "id": "cS5jCAaWCBfp"
      }
    }
  ]
}